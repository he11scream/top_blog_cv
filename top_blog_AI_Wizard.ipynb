{
 "cells": [
  {
   "cell_type": "code",
   "execution_count": 2,
   "id": "d739e0d2-5f4e-4302-a29b-fef1a059a734",
   "metadata": {},
   "outputs": [],
   "source": [
    "import pandas as pd\n",
    "import numpy as np\n",
    "from PIL import Image, ImageFilter, ImageEnhance\n",
    "import PIL\n",
    "import pytesseract\n",
    "import os\n",
    "import re\n",
    "import cv2\n",
    "from io import BytesIO\n",
    "import easyocr\n",
    "import io\n",
    "import pyocr\n",
    "import openpyxl"
   ]
  },
  {
   "cell_type": "code",
   "execution_count": 3,
   "id": "e94ddafb-cec8-4ab7-9db3-fcb7768a8489",
   "metadata": {},
   "outputs": [],
   "source": [
    "#эта первый ищем якорь на картинке\n",
    "#dzen - якорь - день/дней \n",
    "#телега - якорь - err\n",
    "#vk - якорь подписчик (выше приоритет) - участник (ниже приоритет) \n",
    "#youtube - якоря: подписчики + время просмотра\n",
    "\n",
    "#Юра допиши тут регулярки для поиска\n",
    "tg = 'err'\n",
    "vk = ['подпис', 'участ']\n",
    "youtube_sub = 'подпис'\n",
    "youtube_time = 'просмотра'\n",
    "\n",
    "#тут нужно добавить параметр функции выбор соцсети\n",
    "#надо ещё доработать эту функцию, мне кажется за счёт\n",
    "#улучшения качества фото можно улучшить предикты модели\n",
    "def find_word_position(img_path):\n",
    "    image = Image.open(img_path)\n",
    "    result = image.convert('L')\n",
    "    image = result.filter(ImageFilter.SHARPEN)\n",
    "    gray = np.asarray(image)\n",
    "    result = reader.readtext(gray, batch_size=512, min_size=5)\n",
    "    #заменить на выбор соцсети\n",
    "    word_to_find = 'ень'\n",
    "    word_to_find2 = 'ней'\n",
    "    #тут один возврат, ютуб в 2 захода\n",
    "    for r in result:\n",
    "        text = r[1]\n",
    "        if word_to_find in text:\n",
    "            return np.asarray(r[0][0])\n",
    "        elif word_to_find2 in text:\n",
    "            return np.asarray(r[0][0])"
   ]
  },
  {
   "cell_type": "code",
   "execution_count": 6,
   "id": "5ec416a7-b8bd-46d6-ab6e-c40d0e764a9a",
   "metadata": {},
   "outputs": [
    {
     "name": "stderr",
     "output_type": "stream",
     "text": [
      "Neither CUDA nor MPS are available - defaulting to CPU. Note: This module is much faster with a GPU.\n"
     ]
    }
   ],
   "source": [
    "reader = easyocr.Reader(['ru'])"
   ]
  },
  {
   "cell_type": "code",
   "execution_count": 7,
   "id": "e14558cb-3092-483c-9ac8-3c3b95fdb2b5",
   "metadata": {},
   "outputs": [],
   "source": [
    "#Сюда будет приходить путь до временного файла в папке на сервере\n",
    "#файл загружается через интерфейс сайта\n",
    "\n",
    "#Функция обработки изображения\n",
    "def process_image(path:str):\n",
    "    #открываем изображение с помощью Pillow\n",
    "    image = Image.open(path)\n",
    "    #отправляем изображение искать якорь\n",
    "    top_pos = find_word_position(path)\n",
    "    #если есть результат - обрезаем квадрат\n",
    "\n",
    "    #кстати можно улучшить модель, если правильно определять размер\n",
    "    #до того как отравлять её на поиск - на мобилках и компах разное \n",
    "    #соотношение сторон\n",
    "    width, height = image.size\n",
    "    if type(top_pos)==np.ndarray:\n",
    "        load = 1\n",
    "        cropped_image = image.crop((top_pos[0]-100, top_pos[1], width, top_pos[1]+height/10))\n",
    "    #если нет - пытаемся обрезать наугад\n",
    "    else:\n",
    "        load = 0\n",
    "        #тут нужно резать в зависимости от соцсети и соотношения сторон или лучше вообще не резать - думаю\n",
    "        cropped_image = image.crop((width, height*0.6, width, height)\n",
    "    #переводим в серый\n",
    "    result = cropped_image.convert('L')\n",
    "    image = image.filter(ImageFilter.SHARPEN) # Увеличение резкости   \n",
    "    #image.show()\n",
    "    #превращаем в массив numpy\n",
    "    gray = np.asarray(image)\n",
    "    #читаем с помощью easyocr\n",
    "    result = reader.readtext(gray, batch_size=512, detail=0, min_size=3)\n",
    "    return result, load#, gray_video"
   ]
  },
  {
   "cell_type": "code",
   "execution_count": 8,
   "id": "47882585-6984-4973-b277-550c29664d7e",
   "metadata": {},
   "outputs": [],
   "source": [
    "text = pd.DataFrame(columns=['файл', 'текст', 'Успешная загрузка', 'Дочитывания'])"
   ]
  },
  {
   "cell_type": "code",
   "execution_count": 9,
   "id": "7115eb58-b3e0-4449-afbf-2fcae57241c8",
   "metadata": {},
   "outputs": [],
   "source": [
    "# Путь к папке, в которой находятся папки с изображениями\n",
    "root_folder = \"temp\""
   ]
  },
  {
   "cell_type": "code",
   "execution_count": 10,
   "id": "1a479a1e-0ab1-4c3e-86f1-0caaffc1d5b5",
   "metadata": {},
   "outputs": [
    {
     "name": "stdout",
     "output_type": "stream",
     "text": [
      "017619a5-e33a-4351-a695-0d04da4519b8.png\tУспешно загружен\n",
      "04c3357a-3cee-43a1-824b-b1151e6d6404.jpg\tУспешно загружен\n",
      "0578d9d6-0353-4a1c-9fad-91e1f2d9864e.png\tУспешно загружен\n",
      "06173a6f-a7a6-4313-af95-5affed21df31.png\tТребуется ручная проверка\n",
      "0967ba80-8a20-4a30-94e5-3a52b0a451b4.jpg\tУспешно загружен\n",
      "0cdea12d-b73c-40cb-a5ee-3ae985ce862d.png\tУспешно загружен\n",
      "0f00d72f-cf11-45d2-8051-2611bcbde777.png\tУспешно загружен\n",
      "16066bfa-3ce1-4a54-a944-5beb0bae6f1b.png\tУспешно загружен\n",
      "1a114fb6-9546-4087-9337-0bc5f1921baa.png\tУспешно загружен\n",
      "1da9aa5e-ba13-411d-a6b8-bd18a24949b4.png\tУспешно загружен\n",
      "2177cd4e-441d-4aaa-84f8-2557c71a6aa5.jpg\tУспешно загружен\n",
      "23fc51b7-3a14-41be-abb2-d180ce7937b7.JPG\tУспешно загружен\n",
      "2cda9a39-9c83-4e3e-ac79-6b0ad0358a42.jpg\tУспешно загружен\n",
      "3118e8c9-8682-4b08-99fd-911b682b61a1.jpg\tТребуется ручная проверка\n",
      "3279f8d9-fe88-44a0-8e88-9ef789c2d567.png\tУспешно загружен\n",
      "3389deb0-973f-4aba-b5a0-61dac558eda9.JPG\tУспешно загружен\n",
      "3422262e-677c-465f-9b4d-aa8e5dc6dd89.png\tУспешно загружен\n",
      "3b7bce64-bff5-4dc4-8c49-645307a726ee.png\tУспешно загружен\n",
      "3dda0209-e964-460d-8893-269fab3826fc.jpg\tУспешно загружен\n",
      "3e2150cd-7940-4328-9de7-eae0ec252541.jpg\tУспешно загружен\n",
      "3e9053a6-c5c3-4b21-815a-fb7fdf758150.png\tУспешно загружен\n",
      "47d46211-92f8-4aaa-856b-af6c6705715d.jpg\tУспешно загружен\n",
      "4bbd3c0c-7b57-4707-ad18-a8b7d4fcfb41.JPG\tУспешно загружен\n",
      "56604457-d75e-46b2-a374-827a5a58aa47.png\tУспешно загружен\n",
      "56ce749e-4874-4a54-ba3a-5ab0692fc51e.png\tУспешно загружен\n",
      "595bd9ec-982d-43ed-9eb9-70ca1cd32a6f.jpeg\tУспешно загружен\n",
      "5bac1849-06c2-4f5d-872f-141a4cda8bf4.png\tУспешно загружен\n",
      "5e54a819-7ede-4e3b-8692-2b48531623b8.PNG\tУспешно загружен\n",
      "5f979040-98a3-440c-88d3-b5d62b7fd1d9.png\tУспешно загружен\n",
      "64e3a768-af82-494f-aa45-30daf8f18b0a.png\tУспешно загружен\n",
      "6a930d50-ea2c-4ddd-ba1c-0378474eb215.png\tТребуется ручная проверка\n",
      "6af5ac0c-1023-4d6e-a83c-3a53700be637.png\tУспешно загружен\n",
      "6e30788a-f0a3-4450-85a8-f48318d8d5ba.jpg\tУспешно загружен\n",
      "70323554-2eab-4d57-a9e4-bfa129b6b564.png\tУспешно загружен\n",
      "74f4b236-c1a7-45a6-b11a-2d5ab5325db3.png\tУспешно загружен\n",
      "79443664-8202-4d3c-b3d3-c05b873fde69.jpg\tУспешно загружен\n",
      "79ae5399-7d34-410c-9e11-bb25e8b5bc00.png\tТребуется ручная проверка\n",
      "7c4fb3c1-063c-4647-bdbb-c1091632fb88.jpg\tТребуется ручная проверка\n",
      "7d065657-ed0a-4377-aa9e-e71d5810006c.jpeg\tУспешно загружен\n",
      "7e751479-ecba-4ba1-9fcb-b8df9b8032fa.png\tУспешно загружен\n",
      "802254b3-90a7-460e-b112-4bf07c573fad.jpg\tТребуется ручная проверка\n",
      "8a7a366c-ae97-45ad-87c4-0f6487b8e9ba.png\tУспешно загружен\n",
      "912da47c-b2e3-4ead-ac76-fd82cfad664d.png\tУспешно загружен\n",
      "98e96e6c-2231-4b87-acb2-3fee69d24ed1.jpg\tТребуется ручная проверка\n",
      "a121849f-cb7a-464a-9a62-a470de0dce40.jpg\tУспешно загружен\n",
      "a379bbc1-1fc8-4c2c-b746-0e013d89e218.jpg\tУспешно загружен\n",
      "a429e9df-cd69-466d-8ab5-df0ce7912915.png\tУспешно загружен\n",
      "a441ea60-3c57-403e-b291-e05284d6dff7.png\tУспешно загружен\n",
      "a6b9e3c1-05cb-4b0f-b013-5a898371bcc3.png\tУспешно загружен\n",
      "a81544f4-71b6-4680-b6ed-81667095a2e1.jpg\tУспешно загружен\n",
      "bbb2ec82-ab95-42f9-be90-58c0e35c653c.png\tУспешно загружен\n",
      "c4041eeb-a1cc-413e-8b02-cd9ab7f09756.png\tУспешно загружен\n",
      "c41fc196-e52a-4bf1-9858-ecc79842dbb3.jpg\tУспешно загружен\n",
      "cb9dd781-96e6-4f61-8238-aca57a66f4f3.png\tУспешно загружен\n",
      "d38c0ce3-59c8-4be4-a69c-06a0655e32e1.jpg\tУспешно загружен\n",
      "d42d31fd-59bf-4235-87de-143efd3b1163.PNG\tУспешно загружен\n",
      "da16af6c-7b22-47cb-bdfe-7f8856fb026f.png\tУспешно загружен\n",
      "dd40e24e-ddd6-406d-9976-bcfed4855d22.jpg\tУспешно загружен\n",
      "e1f2662d-a1ee-4653-8a15-a385ba8b5568.png\tУспешно загружен\n",
      "e25a64c0-7021-48a2-b1c8-0aeea1e35f3b.jpg\tТребуется ручная проверка\n",
      "f99632cb-8809-4c71-87f3-98c95c48052a.jpg\tУспешно загружен\n",
      "fa627cf5-bb37-4de5-a118-2228c4d2018f.png\tУспешно загружен\n",
      "fd047d1e-3950-4a3c-8782-57c5a8a0b498.jpg\tУспешно загружен\n"
     ]
    },
    {
     "ename": "AttributeError",
     "evalue": "'DataFrame' object has no attribute 'excel'",
     "output_type": "error",
     "traceback": [
      "\u001b[1;31m---------------------------------------------------------------------------\u001b[0m",
      "\u001b[1;31mAttributeError\u001b[0m                            Traceback (most recent call last)",
      "Cell \u001b[1;32mIn[10], line 17\u001b[0m\n\u001b[0;32m     14\u001b[0m                 \u001b[38;5;28mprint\u001b[39m(\u001b[38;5;28mstr\u001b[39m(file)\u001b[38;5;241m+\u001b[39m\u001b[38;5;124m'\u001b[39m\u001b[38;5;130;01m\\t\u001b[39;00m\u001b[38;5;124m'\u001b[39m\u001b[38;5;241m+\u001b[39m\u001b[38;5;124m'\u001b[39m\u001b[38;5;124mТребуется ручная проверка\u001b[39m\u001b[38;5;124m'\u001b[39m)\n\u001b[0;32m     15\u001b[0m                 text\u001b[38;5;241m.\u001b[39mloc[\u001b[38;5;28mlen\u001b[39m(text)] \u001b[38;5;241m=\u001b[39m [file, string, \u001b[38;5;124m'\u001b[39m\u001b[38;5;124mТребуется ручная проверка\u001b[39m\u001b[38;5;124m'\u001b[39m, \u001b[38;5;124m'\u001b[39m\u001b[38;5;124m-\u001b[39m\u001b[38;5;124m'\u001b[39m]\n\u001b[1;32m---> 17\u001b[0m \u001b[43mtext\u001b[49m\u001b[38;5;241;43m.\u001b[39;49m\u001b[43mexcel\u001b[49m(\u001b[38;5;124m'\u001b[39m\u001b[38;5;124mdzen.xlsx\u001b[39m\u001b[38;5;124m'\u001b[39m)\n",
      "File \u001b[1;32m~\\AppData\\Local\\Programs\\Python\\Python311\\Lib\\site-packages\\pandas\\core\\generic.py:5989\u001b[0m, in \u001b[0;36mNDFrame.__getattr__\u001b[1;34m(self, name)\u001b[0m\n\u001b[0;32m   5982\u001b[0m \u001b[38;5;28;01mif\u001b[39;00m (\n\u001b[0;32m   5983\u001b[0m     name \u001b[38;5;129;01mnot\u001b[39;00m \u001b[38;5;129;01min\u001b[39;00m \u001b[38;5;28mself\u001b[39m\u001b[38;5;241m.\u001b[39m_internal_names_set\n\u001b[0;32m   5984\u001b[0m     \u001b[38;5;129;01mand\u001b[39;00m name \u001b[38;5;129;01mnot\u001b[39;00m \u001b[38;5;129;01min\u001b[39;00m \u001b[38;5;28mself\u001b[39m\u001b[38;5;241m.\u001b[39m_metadata\n\u001b[0;32m   5985\u001b[0m     \u001b[38;5;129;01mand\u001b[39;00m name \u001b[38;5;129;01mnot\u001b[39;00m \u001b[38;5;129;01min\u001b[39;00m \u001b[38;5;28mself\u001b[39m\u001b[38;5;241m.\u001b[39m_accessors\n\u001b[0;32m   5986\u001b[0m     \u001b[38;5;129;01mand\u001b[39;00m \u001b[38;5;28mself\u001b[39m\u001b[38;5;241m.\u001b[39m_info_axis\u001b[38;5;241m.\u001b[39m_can_hold_identifiers_and_holds_name(name)\n\u001b[0;32m   5987\u001b[0m ):\n\u001b[0;32m   5988\u001b[0m     \u001b[38;5;28;01mreturn\u001b[39;00m \u001b[38;5;28mself\u001b[39m[name]\n\u001b[1;32m-> 5989\u001b[0m \u001b[38;5;28;01mreturn\u001b[39;00m \u001b[38;5;28;43mobject\u001b[39;49m\u001b[38;5;241;43m.\u001b[39;49m\u001b[38;5;21;43m__getattribute__\u001b[39;49m\u001b[43m(\u001b[49m\u001b[38;5;28;43mself\u001b[39;49m\u001b[43m,\u001b[49m\u001b[43m \u001b[49m\u001b[43mname\u001b[49m\u001b[43m)\u001b[49m\n",
      "\u001b[1;31mAttributeError\u001b[0m: 'DataFrame' object has no attribute 'excel'"
     ]
    }
   ],
   "source": [
    "# Обход всех папок и файлов внутри главной папки\n",
    "for root, dirs, files in os.walk(root_folder):\n",
    "    for file in files:\n",
    "    # Проверка, что файл - изображение (замените на поддерживаемые форматы по своему усмотрению)\n",
    "        if file.endswith(('.jpg', '.jpeg', '.png', '.JPG', '.JPEG', '.PNG')):\n",
    "            # Получение полного пути к файлу\n",
    "            file_path = os.path.join(root, file)\n",
    "            # Обработка изображения с помощью функции process_image\n",
    "            string,load  = process_image(file_path)\n",
    "            if(load==1):\n",
    "                print(str(file)+'\\t'+'Успешно загружен')\n",
    "                text.loc[len(text)] = [file, string, 'Успешно загружен', '-']\n",
    "            elif(load==0):\n",
    "                print(str(file)+'\\t'+'Требуется ручная проверка')\n",
    "                text.loc[len(text)] = [file, string, 'Требуется ручная проверка', '-']\n",
    "\n"
   ]
  },
  {
   "cell_type": "code",
   "execution_count": 11,
   "id": "33e63702-094c-4628-8da9-493f08e2f252",
   "metadata": {},
   "outputs": [],
   "source": [
    "text.to_excel('dzen.xlsx')"
   ]
  },
  {
   "cell_type": "code",
   "execution_count": 12,
   "id": "4faa4267-e753-41fd-a96d-8d6826194686",
   "metadata": {},
   "outputs": [],
   "source": [
    "df = pd.read_excel('dzen.xlsx')"
   ]
  },
  {
   "cell_type": "code",
   "execution_count": 16,
   "id": "f6a620f5-32dc-4ce1-b7dd-4bedb81f4ef5",
   "metadata": {},
   "outputs": [
    {
     "data": {
      "text/plain": [
       "\"['Дзен-студия', 'Наммиен шобывыймувполноэкранно режима', 'Главное', 'Статистика', '^]', 'Статистика', 'Подписчики', 'Публикации', 'Почасовая статистика', 'Доход', 'Аудитория', '01 _ 31 мая 2023', 'Публикации', 'Все', 'Статьи', 'Посты', 'Видео', 'Только подписчики', 'По дате события', 'По дате публикации', 'Отчёт', 'Комментарии', '₽', 'Монетизация', 'Дочитывания и просмотры', 'Детализация', 'по дням', 'Настройки', '202', 'Всё', 'Дзене', 'Справка', 'Поддержка', '1??', '1 мая', '07 мая', '19 иая', 'кав', '31 мая', 'ЗаГолсЕак', 'Дата', 'Ок=з=', 'Дочитыв:ния', 'Обшее время', 'ПодГиски', 'проснотры', 'прасматра', 'Всего за 31 день', '33 011', '1 280', '15.5 ч:', '52', '12', '280', '37 публикаций', '0', 'Ваш канал', '26 мая', 'Неосновательное обогащение:', 'развенчиваем мифы', '293', '19', '10', '~п7-']\""
      ]
     },
     "execution_count": 16,
     "metadata": {},
     "output_type": "execute_result"
    }
   ],
   "source": [
    "df.loc[2]['текст']"
   ]
  },
  {
   "cell_type": "code",
   "execution_count": null,
   "id": "e1e2c7a4-3dbd-4fc5-9b95-ca7ef58bb807",
   "metadata": {},
   "outputs": [],
   "source": []
  }
 ],
 "metadata": {
  "kernelspec": {
   "display_name": "Python 3 (ipykernel)",
   "language": "python",
   "name": "python3"
  },
  "language_info": {
   "codemirror_mode": {
    "name": "ipython",
    "version": 3
   },
   "file_extension": ".py",
   "mimetype": "text/x-python",
   "name": "python",
   "nbconvert_exporter": "python",
   "pygments_lexer": "ipython3",
   "version": "3.11.5"
  }
 },
 "nbformat": 4,
 "nbformat_minor": 5
}
