{
 "cells": [
  {
   "cell_type": "code",
   "execution_count": 64,
   "id": "d739e0d2-5f4e-4302-a29b-fef1a059a734",
   "metadata": {},
   "outputs": [],
   "source": [
    "import pandas as pd\n",
    "import numpy as np\n",
    "from PIL import Image, ImageFilter, ImageEnhance\n",
    "import PIL\n",
    "import os\n",
    "import easyocr\n",
    "import openpyxl"
   ]
  },
  {
   "cell_type": "markdown",
   "id": "c9f42c45-3732-4272-addf-e5038d5a0e88",
   "metadata": {},
   "source": [
    "# Этап первый - ищем якорь на картинке\n",
    "\n",
    "<p>dzen - якорь - день/дней <br>\n",
    "телега - якорь - err/vr <br>\n",
    "vk - якорь подписчик (выше приоритет) - участник (ниже приоритет) <br>\n",
    "youtube - якоря:  подписчики + подробнее (выше приоритет),время просмотра</p>"
   ]
  },
  {
   "cell_type": "code",
   "execution_count": 79,
   "id": "2f581bbf-a2c5-4506-8db2-24b355a3b9c5",
   "metadata": {},
   "outputs": [],
   "source": [
    "text = pd.DataFrame(columns=['Файл', 'Успешная загрузка', 'Метрика 1', 'Метрика 2'])"
   ]
  },
  {
   "cell_type": "code",
   "execution_count": 80,
   "id": "e94ddafb-cec8-4ab7-9db3-fcb7768a8489",
   "metadata": {},
   "outputs": [],
   "source": [
    "#всё в одной функции, чтобы не плодить сущности - создали Reader и гоняем его в рамках одной картинки\n",
    "\n",
    "#триггер удачного нахождения якоря\n",
    "load = 0\n",
    "\n",
    "#надо ещё доработать эту функцию, мне кажется за счёт\n",
    "#улучшения качества фото можно улучшить предикты модели\n",
    "def cut_at_anchor(img_path, soc_net):\n",
    "    #открываем изображение с помощью Pillow\n",
    "    try:\n",
    "        image = Image.open(img_path)\n",
    "    except FileNotFoundError:\n",
    "        print('Файл повреждён')\n",
    "\n",
    "    #обрабатываем фото для лучшего распознавания\n",
    "    #есть ещё над чем поработать\n",
    "    #но уже хорошо работает\n",
    "    result = image.convert('L')\n",
    "    image = result.filter(ImageFilter.SHARPEN)\n",
    "    gray = np.asarray(image)\n",
    "\n",
    "    #создаём экземпляр сети\n",
    "    if(soc_net!='tg'):\n",
    "        reader = easyocr.Reader(['ru'])             \n",
    "    else:\n",
    "        reader = easyocr.Reader(['en'])\n",
    "        \n",
    "    #вытаскиваем текст из изображения\n",
    "    result = reader.readtext(gray, batch_size=512, min_size=5)\n",
    "\n",
    "    #считываем размеры фото\n",
    "    width, height = gray.size\n",
    "\n",
    "#Этап второй: ищем якорь и его позицию\n",
    "#если якорь найти не удалось - выдаём ошибку ничего не записываем в pandas\n",
    "    if(soc_net=='vk'):\n",
    "        word_to_find = 'подписчик'\n",
    "        word_to_find2 = 'участник'\n",
    "        for r in result:\n",
    "            text = r[1]\n",
    "            if word_to_find in text or word_to_find2 in text:\n",
    "                load = 1\n",
    "                #записываем позицию левого верхнего угла якоря\n",
    "                top_pos = r[0][0]\n",
    "                #обрезаем фото так: влево на 30 пикселей, вправо на 150 (сама надпись + растояние до цифры) \n",
    "                #и на высоту 50 (можно поиграть для точности)\n",
    "                cropped_image = image.crop((top_pos[0]-30, top_pos[1], top_pos[0]+150, top_pos[1]+50))\n",
    "    elif(soc_net=='youtube'):\n",
    "        word_to_find = 'подписчик'\n",
    "        word_to_find2 = 'просмотра'\n",
    "        word_to_find3 = 'подробнее'\n",
    "        #подписчики => вверх и вниз обрезаем по 50 пикслей, если есть слово подробнее - оно становится главным якорем, над ним цифра\n",
    "        #значит режем вверх\n",
    "    elif(soc_net=='dzen'):\n",
    "        word_to_find = 'день'\n",
    "        word_to_find2 = 'дней'\n",
    "        for r in result:\n",
    "            text = r[1]\n",
    "            if word_to_find in text or word_to_find2 in text:\n",
    "                load = 1\n",
    "                #из левого верхнего угла якоря идём до конца фото (width) и на 50 пикселей вниз\n",
    "                #2 цифра - наша\n",
    "                cropped_image = image.crop((top_pos[0], top_pos[1], width, top_pos[1]+50))\n",
    "    else:\n",
    "        word_to_find = 'ERR'\n",
    "        word_to_find2 = 'VR'\n",
    "        #тут другая логика если нашёл ERR - обрезать слево, если нашёл VR - обрезать внизу\n",
    "        for r in result:\n",
    "            text = r[1]\n",
    "            #заглушки пока\n",
    "            if word_to_find in text:\n",
    "                load = 1\n",
    "                print('')\n",
    "                #обрезать изображение слево на 50 пикселей\n",
    "            elif word_to_find2 in text:\n",
    "                load = 1\n",
    "                print('')\n",
    "                #обрезать изображение вниза на 50 пикселей\n",
    "\n",
    "    result = reader.readtext(cropped_image, batch_size=512, min_size=5)\n",
    "    #тут нужна функция очистки строки, чтобы на выходе была только метрика\n",
    "    return result"
   ]
  },
  {
   "cell_type": "code",
   "execution_count": 78,
   "id": "47882585-6984-4973-b277-550c29664d7e",
   "metadata": {},
   "outputs": [],
   "source": [
    "#тут будет разный паттер в зависимости от соцсети\n",
    "data = text.copy()\n",
    "with pd.ExcelWriter('output.xlsx') as writer:  \n",
    "    data.to_excel(writer, sheet_name='Telegram')\n",
    "    data.to_excel(writer, sheet_name='VK')\n",
    "    data.to_excel(writer, sheet_name='Youtube')\n",
    "    data.to_excel(writer, sheet_name='Dzen')"
   ]
  },
  {
   "cell_type": "code",
   "execution_count": 69,
   "id": "7115eb58-b3e0-4449-afbf-2fcae57241c8",
   "metadata": {},
   "outputs": [],
   "source": [
    "# Путь к папке, в которой находятся папки с изображениями\n",
    "root_folder = \"temp\""
   ]
  },
  {
   "cell_type": "code",
   "execution_count": 81,
   "id": "1a479a1e-0ab1-4c3e-86f1-0caaffc1d5b5",
   "metadata": {},
   "outputs": [
    {
     "ename": "NameError",
     "evalue": "name 'soc_net' is not defined",
     "output_type": "error",
     "traceback": [
      "\u001b[1;31m---------------------------------------------------------------------------\u001b[0m",
      "\u001b[1;31mNameError\u001b[0m                                 Traceback (most recent call last)",
      "Cell \u001b[1;32mIn[81], line 10\u001b[0m\n\u001b[0;32m      7\u001b[0m file_path \u001b[38;5;241m=\u001b[39m os\u001b[38;5;241m.\u001b[39mpath\u001b[38;5;241m.\u001b[39mjoin(root, file)\n\u001b[0;32m      8\u001b[0m \u001b[38;5;66;03m# Обработка изображения с помощью функции process_image\u001b[39;00m\n\u001b[0;32m      9\u001b[0m \u001b[38;5;66;03m#вызываемм функцию которая вернёт метрики (если их 2, если нет метрику + пустую строку)\u001b[39;00m\n\u001b[1;32m---> 10\u001b[0m metricOne, metricTwo \u001b[38;5;241m=\u001b[39m cut_at_anchor(file_path, \u001b[43msoc_net\u001b[49m)\n\u001b[0;32m     12\u001b[0m \u001b[38;5;28;01mif\u001b[39;00m(load\u001b[38;5;241m==\u001b[39m\u001b[38;5;241m1\u001b[39m):\n\u001b[0;32m     13\u001b[0m     \u001b[38;5;28mprint\u001b[39m(\u001b[38;5;28mstr\u001b[39m(file)\u001b[38;5;241m+\u001b[39m\u001b[38;5;124m'\u001b[39m\u001b[38;5;130;01m\\t\u001b[39;00m\u001b[38;5;124m'\u001b[39m\u001b[38;5;241m+\u001b[39m\u001b[38;5;124m'\u001b[39m\u001b[38;5;124mУспешно загружен\u001b[39m\u001b[38;5;124m'\u001b[39m)\n",
      "\u001b[1;31mNameError\u001b[0m: name 'soc_net' is not defined"
     ]
    }
   ],
   "source": [
    "# Обход всех папок и файлов внутри главной папки\n",
    "for root, dirs, files in os.walk(root_folder):\n",
    "    for file in files:\n",
    "    # Проверка, что файл - изображение (замените на поддерживаемые форматы по своему усмотрению)\n",
    "        if file.endswith(('.jpg', '.jpeg', '.png', '.JPG', '.JPEG', '.PNG')):\n",
    "            # Получение полного пути к файлу\n",
    "            file_path = os.path.join(root, file)\n",
    "            # Обработка изображения с помощью функции process_image\n",
    "            #вызываемм функцию которая вернёт метрики (если их 2, если нет метрику + пустую строку)\n",
    "            metricOne, metricTwo = cut_at_anchor(file_path, soc_net)\n",
    "            \n",
    "            if(load==1):\n",
    "                print(str(file)+'\\t'+'Успешно загружен')\n",
    "                text.loc[len(text)] = [file, string, 'Успешно загружен', '-']\n",
    "            elif(load==0):\n",
    "                print(str(file)+'\\t'+'Требуется ручная проверка')\n",
    "                text.loc[len(text)] = [file, string, 'Требуется ручная проверка', '-']"
   ]
  },
  {
   "cell_type": "code",
   "execution_count": 36,
   "id": "33e63702-094c-4628-8da9-493f08e2f252",
   "metadata": {},
   "outputs": [],
   "source": [
    "text.to_excel('tg.xlsx')"
   ]
  },
  {
   "cell_type": "code",
   "execution_count": 38,
   "id": "4faa4267-e753-41fd-a96d-8d6826194686",
   "metadata": {},
   "outputs": [],
   "source": [
    "df = pd.read_excel('tg.xlsx')"
   ]
  },
  {
   "cell_type": "code",
   "execution_count": 40,
   "id": "f6a620f5-32dc-4ce1-b7dd-4bedb81f4ef5",
   "metadata": {},
   "outputs": [],
   "source": [
    "df.to_csv('tg.csv')"
   ]
  },
  {
   "cell_type": "code",
   "execution_count": null,
   "id": "e1e2c7a4-3dbd-4fc5-9b95-ca7ef58bb807",
   "metadata": {},
   "outputs": [],
   "source": []
  }
 ],
 "metadata": {
  "kernelspec": {
   "display_name": "Python 3 (ipykernel)",
   "language": "python",
   "name": "python3"
  },
  "language_info": {
   "codemirror_mode": {
    "name": "ipython",
    "version": 3
   },
   "file_extension": ".py",
   "mimetype": "text/x-python",
   "name": "python",
   "nbconvert_exporter": "python",
   "pygments_lexer": "ipython3",
   "version": "3.11.5"
  }
 },
 "nbformat": 4,
 "nbformat_minor": 5
}
